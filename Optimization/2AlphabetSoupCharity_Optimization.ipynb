{
  "cells": [
    {
      "cell_type": "markdown",
      "metadata": {
        "colab_type": "text",
        "id": "view-in-github"
      },
      "source": [
        "<a href=\"https://colab.research.google.com/github/brianna-mitri/deep-learning-challenge/blob/main/AlphabetSoupCharity_Optimization.ipynb\" target=\"_parent\"><img src=\"https://colab.research.google.com/assets/colab-badge.svg\" alt=\"Open In Colab\"/></a>"
      ]
    },
    {
      "cell_type": "markdown",
      "metadata": {
        "id": "Rlsn14PZeNT4"
      },
      "source": [
        "## Setup"
      ]
    },
    {
      "cell_type": "code",
      "execution_count": 38,
      "metadata": {
        "colab": {
          "base_uri": "https://localhost:8080/"
        },
        "id": "2yLDCd-IuuZs",
        "outputId": "3f6cbe05-a20d-4b50-c586-27384458aa3c"
      },
      "outputs": [
        {
          "name": "stdout",
          "output_type": "stream",
          "text": [
            "Requirement already satisfied: keras-tuner in c:\\users\\brian\\anaconda3\\envs\\tf\\lib\\site-packages (1.4.7)\n",
            "Requirement already satisfied: keras in c:\\users\\brian\\anaconda3\\envs\\tf\\lib\\site-packages (from keras-tuner) (3.9.0)\n",
            "Requirement already satisfied: packaging in c:\\users\\brian\\appdata\\roaming\\python\\python310\\site-packages (from keras-tuner) (24.2)\n",
            "Requirement already satisfied: requests in c:\\users\\brian\\anaconda3\\envs\\tf\\lib\\site-packages (from keras-tuner) (2.32.3)\n",
            "Requirement already satisfied: kt-legacy in c:\\users\\brian\\anaconda3\\envs\\tf\\lib\\site-packages (from keras-tuner) (1.0.5)\n",
            "Requirement already satisfied: absl-py in c:\\users\\brian\\anaconda3\\envs\\tf\\lib\\site-packages (from keras->keras-tuner) (2.1.0)\n",
            "Requirement already satisfied: numpy in c:\\users\\brian\\anaconda3\\envs\\tf\\lib\\site-packages (from keras->keras-tuner) (1.26.4)\n",
            "Requirement already satisfied: rich in c:\\users\\brian\\anaconda3\\envs\\tf\\lib\\site-packages (from keras->keras-tuner) (13.9.4)\n",
            "Requirement already satisfied: namex in c:\\users\\brian\\anaconda3\\envs\\tf\\lib\\site-packages (from keras->keras-tuner) (0.0.8)\n",
            "Requirement already satisfied: h5py in c:\\users\\brian\\anaconda3\\envs\\tf\\lib\\site-packages (from keras->keras-tuner) (3.12.1)\n",
            "Requirement already satisfied: optree in c:\\users\\brian\\anaconda3\\envs\\tf\\lib\\site-packages (from keras->keras-tuner) (0.14.1)\n",
            "Requirement already satisfied: ml-dtypes in c:\\users\\brian\\anaconda3\\envs\\tf\\lib\\site-packages (from keras->keras-tuner) (0.5.1)\n",
            "Requirement already satisfied: charset-normalizer<4,>=2 in c:\\users\\brian\\anaconda3\\envs\\tf\\lib\\site-packages (from requests->keras-tuner) (3.3.2)\n",
            "Requirement already satisfied: idna<4,>=2.5 in c:\\users\\brian\\anaconda3\\envs\\tf\\lib\\site-packages (from requests->keras-tuner) (3.7)\n",
            "Requirement already satisfied: urllib3<3,>=1.21.1 in c:\\users\\brian\\anaconda3\\envs\\tf\\lib\\site-packages (from requests->keras-tuner) (2.3.0)\n",
            "Requirement already satisfied: certifi>=2017.4.17 in c:\\users\\brian\\anaconda3\\envs\\tf\\lib\\site-packages (from requests->keras-tuner) (2025.1.31)\n",
            "Requirement already satisfied: typing-extensions>=4.5.0 in c:\\users\\brian\\appdata\\roaming\\python\\python310\\site-packages (from optree->keras->keras-tuner) (4.12.2)\n",
            "Requirement already satisfied: markdown-it-py>=2.2.0 in c:\\users\\brian\\anaconda3\\envs\\tf\\lib\\site-packages (from rich->keras->keras-tuner) (3.0.0)\n",
            "Requirement already satisfied: pygments<3.0.0,>=2.13.0 in c:\\users\\brian\\appdata\\roaming\\python\\python310\\site-packages (from rich->keras->keras-tuner) (2.19.1)\n",
            "Requirement already satisfied: mdurl~=0.1 in c:\\users\\brian\\anaconda3\\envs\\tf\\lib\\site-packages (from markdown-it-py>=2.2.0->rich->keras->keras-tuner) (0.1.2)\n"
          ]
        }
      ],
      "source": [
        "!pip install keras-tuner"
      ]
    },
    {
      "cell_type": "code",
      "execution_count": 39,
      "metadata": {
        "id": "jhCzY6TyZFr6"
      },
      "outputs": [],
      "source": [
        "#imports\n",
        "from sklearn.compose import ColumnTransformer\n",
        "from sklearn.model_selection import train_test_split\n",
        "from sklearn.preprocessing import OneHotEncoder, StandardScaler, FunctionTransformer\n",
        "from sklearn.pipeline import Pipeline\n",
        "from sklearn.metrics import balanced_accuracy_score, confusion_matrix, ConfusionMatrixDisplay, classification_report\n",
        "import pandas as pd\n",
        "import numpy as np\n",
        "import tensorflow as tf\n",
        "import keras_tuner as kt"
      ]
    },
    {
      "cell_type": "code",
      "execution_count": 40,
      "metadata": {
        "colab": {
          "base_uri": "https://localhost:8080/",
          "height": 451
        },
        "id": "yeTSGdbueiLF",
        "outputId": "cd7fc35c-92e4-4aaf-e2b2-3a6ffa257cca"
      },
      "outputs": [
        {
          "data": {
            "text/html": [
              "<div>\n",
              "<style scoped>\n",
              "    .dataframe tbody tr th:only-of-type {\n",
              "        vertical-align: middle;\n",
              "    }\n",
              "\n",
              "    .dataframe tbody tr th {\n",
              "        vertical-align: top;\n",
              "    }\n",
              "\n",
              "    .dataframe thead th {\n",
              "        text-align: right;\n",
              "    }\n",
              "</style>\n",
              "<table border=\"1\" class=\"dataframe\">\n",
              "  <thead>\n",
              "    <tr style=\"text-align: right;\">\n",
              "      <th></th>\n",
              "      <th>EIN</th>\n",
              "      <th>NAME</th>\n",
              "      <th>APPLICATION_TYPE</th>\n",
              "      <th>AFFILIATION</th>\n",
              "      <th>CLASSIFICATION</th>\n",
              "      <th>USE_CASE</th>\n",
              "      <th>ORGANIZATION</th>\n",
              "      <th>STATUS</th>\n",
              "      <th>INCOME_AMT</th>\n",
              "      <th>SPECIAL_CONSIDERATIONS</th>\n",
              "      <th>ASK_AMT</th>\n",
              "      <th>IS_SUCCESSFUL</th>\n",
              "    </tr>\n",
              "  </thead>\n",
              "  <tbody>\n",
              "    <tr>\n",
              "      <th>0</th>\n",
              "      <td>10520599</td>\n",
              "      <td>BLUE KNIGHTS MOTORCYCLE CLUB</td>\n",
              "      <td>T10</td>\n",
              "      <td>Independent</td>\n",
              "      <td>C1000</td>\n",
              "      <td>ProductDev</td>\n",
              "      <td>Association</td>\n",
              "      <td>1</td>\n",
              "      <td>0</td>\n",
              "      <td>N</td>\n",
              "      <td>5000</td>\n",
              "      <td>1</td>\n",
              "    </tr>\n",
              "    <tr>\n",
              "      <th>1</th>\n",
              "      <td>10531628</td>\n",
              "      <td>AMERICAN CHESAPEAKE CLUB CHARITABLE TR</td>\n",
              "      <td>T3</td>\n",
              "      <td>Independent</td>\n",
              "      <td>C2000</td>\n",
              "      <td>Preservation</td>\n",
              "      <td>Co-operative</td>\n",
              "      <td>1</td>\n",
              "      <td>1-9999</td>\n",
              "      <td>N</td>\n",
              "      <td>108590</td>\n",
              "      <td>1</td>\n",
              "    </tr>\n",
              "    <tr>\n",
              "      <th>2</th>\n",
              "      <td>10547893</td>\n",
              "      <td>ST CLOUD PROFESSIONAL FIREFIGHTERS</td>\n",
              "      <td>T5</td>\n",
              "      <td>CompanySponsored</td>\n",
              "      <td>C3000</td>\n",
              "      <td>ProductDev</td>\n",
              "      <td>Association</td>\n",
              "      <td>1</td>\n",
              "      <td>0</td>\n",
              "      <td>N</td>\n",
              "      <td>5000</td>\n",
              "      <td>0</td>\n",
              "    </tr>\n",
              "    <tr>\n",
              "      <th>3</th>\n",
              "      <td>10553066</td>\n",
              "      <td>SOUTHSIDE ATHLETIC ASSOCIATION</td>\n",
              "      <td>T3</td>\n",
              "      <td>CompanySponsored</td>\n",
              "      <td>C2000</td>\n",
              "      <td>Preservation</td>\n",
              "      <td>Trust</td>\n",
              "      <td>1</td>\n",
              "      <td>10000-24999</td>\n",
              "      <td>N</td>\n",
              "      <td>6692</td>\n",
              "      <td>1</td>\n",
              "    </tr>\n",
              "    <tr>\n",
              "      <th>4</th>\n",
              "      <td>10556103</td>\n",
              "      <td>GENETIC RESEARCH INSTITUTE OF THE DESERT</td>\n",
              "      <td>T3</td>\n",
              "      <td>Independent</td>\n",
              "      <td>C1000</td>\n",
              "      <td>Heathcare</td>\n",
              "      <td>Trust</td>\n",
              "      <td>1</td>\n",
              "      <td>100000-499999</td>\n",
              "      <td>N</td>\n",
              "      <td>142590</td>\n",
              "      <td>1</td>\n",
              "    </tr>\n",
              "  </tbody>\n",
              "</table>\n",
              "</div>"
            ],
            "text/plain": [
              "        EIN                                      NAME APPLICATION_TYPE  \\\n",
              "0  10520599              BLUE KNIGHTS MOTORCYCLE CLUB              T10   \n",
              "1  10531628    AMERICAN CHESAPEAKE CLUB CHARITABLE TR               T3   \n",
              "2  10547893        ST CLOUD PROFESSIONAL FIREFIGHTERS               T5   \n",
              "3  10553066            SOUTHSIDE ATHLETIC ASSOCIATION               T3   \n",
              "4  10556103  GENETIC RESEARCH INSTITUTE OF THE DESERT               T3   \n",
              "\n",
              "        AFFILIATION CLASSIFICATION      USE_CASE  ORGANIZATION  STATUS  \\\n",
              "0       Independent          C1000    ProductDev   Association       1   \n",
              "1       Independent          C2000  Preservation  Co-operative       1   \n",
              "2  CompanySponsored          C3000    ProductDev   Association       1   \n",
              "3  CompanySponsored          C2000  Preservation         Trust       1   \n",
              "4       Independent          C1000     Heathcare         Trust       1   \n",
              "\n",
              "      INCOME_AMT SPECIAL_CONSIDERATIONS  ASK_AMT  IS_SUCCESSFUL  \n",
              "0              0                      N     5000              1  \n",
              "1         1-9999                      N   108590              1  \n",
              "2              0                      N     5000              0  \n",
              "3    10000-24999                      N     6692              1  \n",
              "4  100000-499999                      N   142590              1  "
            ]
          },
          "execution_count": 40,
          "metadata": {},
          "output_type": "execute_result"
        }
      ],
      "source": [
        "# read in data into df\n",
        "charity_df = pd.read_csv('https://static.bc-edx.com/data/dl-1-2/m21/lms/starter/charity_data.csv')\n",
        "charity_df.head()"
      ]
    },
    {
      "cell_type": "markdown",
      "metadata": {
        "id": "fRK_tnq7s46f"
      },
      "source": [
        "## Data Check\n",
        "---"
      ]
    },
    {
      "cell_type": "markdown",
      "metadata": {
        "id": "1b4CH4DAs-sx"
      },
      "source": [
        "### See distribution of output variable"
      ]
    },
    {
      "cell_type": "code",
      "execution_count": 41,
      "metadata": {
        "colab": {
          "base_uri": "https://localhost:8080/",
          "height": 178
        },
        "id": "Sq_vQXSvtC6G",
        "outputId": "2ae53e7d-4ebb-4c86-8b50-9ca50d666b70"
      },
      "outputs": [
        {
          "data": {
            "text/plain": [
              "IS_SUCCESSFUL\n",
              "1    18261\n",
              "0    16038\n",
              "Name: count, dtype: int64"
            ]
          },
          "execution_count": 41,
          "metadata": {},
          "output_type": "execute_result"
        }
      ],
      "source": [
        "charity_df['IS_SUCCESSFUL'].value_counts()"
      ]
    },
    {
      "cell_type": "markdown",
      "metadata": {
        "id": "DU1NIQnEtFGO"
      },
      "source": [
        "### See if ASK_AMT is skewed --> YES (try log transform instead of ONLY standard standard scaler)"
      ]
    },
    {
      "cell_type": "code",
      "execution_count": 42,
      "metadata": {
        "colab": {
          "base_uri": "https://localhost:8080/",
          "height": 335
        },
        "id": "2ePZ_VD_tIwI",
        "outputId": "0f3e23cf-01df-450c-d402-d97de0230071"
      },
      "outputs": [
        {
          "data": {
            "text/plain": [
              "count    3.429900e+04\n",
              "mean     2.769199e+06\n",
              "std      8.713045e+07\n",
              "min      5.000000e+03\n",
              "25%      5.000000e+03\n",
              "50%      5.000000e+03\n",
              "75%      7.742000e+03\n",
              "max      8.597806e+09\n",
              "Name: ASK_AMT, dtype: float64"
            ]
          },
          "execution_count": 42,
          "metadata": {},
          "output_type": "execute_result"
        }
      ],
      "source": [
        "# look at summary stats\n",
        "charity_df['ASK_AMT'].describe()"
      ]
    },
    {
      "cell_type": "code",
      "execution_count": 43,
      "metadata": {
        "colab": {
          "base_uri": "https://localhost:8080/"
        },
        "id": "o8FvhSL3tyfn",
        "outputId": "1fd1c457-8577-4e6d-8933-1849afef6546"
      },
      "outputs": [
        {
          "name": "stdout",
          "output_type": "stream",
          "text": [
            "Mean: 2769198.6820607013\n",
            "Median: 5000.0\n"
          ]
        }
      ],
      "source": [
        "# show only mean versus median --> mean much > than median --> indicates right skew\n",
        "print(f\"Mean: {charity_df['ASK_AMT'].mean()}\")\n",
        "print(f\"Median: {charity_df['ASK_AMT'].median()}\")"
      ]
    },
    {
      "cell_type": "code",
      "execution_count": 44,
      "metadata": {
        "colab": {
          "base_uri": "https://localhost:8080/"
        },
        "id": "3kHzKwsEtyh2",
        "outputId": "b5a21408-19c3-4903-9a67-782a51350059"
      },
      "outputs": [
        {
          "data": {
            "text/plain": [
              "72.4101078515525"
            ]
          },
          "execution_count": 44,
          "metadata": {},
          "output_type": "execute_result"
        }
      ],
      "source": [
        "# check skewness --> right skew\n",
        "charity_df['ASK_AMT'].skew()"
      ]
    },
    {
      "cell_type": "markdown",
      "metadata": {
        "id": "LEKEfs20FH5e"
      },
      "source": [
        "### Check Status distribution"
      ]
    },
    {
      "cell_type": "code",
      "execution_count": 45,
      "metadata": {
        "colab": {
          "base_uri": "https://localhost:8080/",
          "height": 178
        },
        "id": "kOb2vitAFbGn",
        "outputId": "a04c42be-cd2d-4332-ded0-e1838d71ee6f"
      },
      "outputs": [
        {
          "data": {
            "text/plain": [
              "STATUS\n",
              "1    34294\n",
              "0        5\n",
              "Name: count, dtype: int64"
            ]
          },
          "execution_count": 45,
          "metadata": {},
          "output_type": "execute_result"
        }
      ],
      "source": [
        "# check value counts --> basically always 1 (doesn't add much so should drop it)\n",
        "charity_df['STATUS'].value_counts()"
      ]
    },
    {
      "cell_type": "markdown",
      "metadata": {
        "id": "ogDRniJ7CYQE"
      },
      "source": [
        "## Data Preprocessing\n",
        "---"
      ]
    },
    {
      "cell_type": "markdown",
      "metadata": {
        "id": "Z4LxR4kkKlaV"
      },
      "source": [
        "### Drop columns"
      ]
    },
    {
      "cell_type": "code",
      "execution_count": 46,
      "metadata": {
        "id": "hDpRfgKpFxc8"
      },
      "outputs": [],
      "source": [
        "# drop status column\n",
        "charity_df = charity_df.drop(columns=['STATUS']).copy()"
      ]
    },
    {
      "cell_type": "code",
      "execution_count": 47,
      "metadata": {
        "colab": {
          "base_uri": "https://localhost:8080/",
          "height": 0
        },
        "id": "pPoiJ9GOCck1",
        "outputId": "c7e8ec08-6997-4c9d-b481-a009984d9fb6"
      },
      "outputs": [
        {
          "data": {
            "text/html": [
              "<div>\n",
              "<style scoped>\n",
              "    .dataframe tbody tr th:only-of-type {\n",
              "        vertical-align: middle;\n",
              "    }\n",
              "\n",
              "    .dataframe tbody tr th {\n",
              "        vertical-align: top;\n",
              "    }\n",
              "\n",
              "    .dataframe thead th {\n",
              "        text-align: right;\n",
              "    }\n",
              "</style>\n",
              "<table border=\"1\" class=\"dataframe\">\n",
              "  <thead>\n",
              "    <tr style=\"text-align: right;\">\n",
              "      <th></th>\n",
              "      <th>APPLICATION_TYPE</th>\n",
              "      <th>AFFILIATION</th>\n",
              "      <th>CLASSIFICATION</th>\n",
              "      <th>USE_CASE</th>\n",
              "      <th>ORGANIZATION</th>\n",
              "      <th>INCOME_AMT</th>\n",
              "      <th>SPECIAL_CONSIDERATIONS</th>\n",
              "      <th>ASK_AMT</th>\n",
              "      <th>IS_SUCCESSFUL</th>\n",
              "    </tr>\n",
              "  </thead>\n",
              "  <tbody>\n",
              "    <tr>\n",
              "      <th>0</th>\n",
              "      <td>T10</td>\n",
              "      <td>Independent</td>\n",
              "      <td>C1000</td>\n",
              "      <td>ProductDev</td>\n",
              "      <td>Association</td>\n",
              "      <td>0</td>\n",
              "      <td>N</td>\n",
              "      <td>5000</td>\n",
              "      <td>1</td>\n",
              "    </tr>\n",
              "    <tr>\n",
              "      <th>1</th>\n",
              "      <td>T3</td>\n",
              "      <td>Independent</td>\n",
              "      <td>C2000</td>\n",
              "      <td>Preservation</td>\n",
              "      <td>Co-operative</td>\n",
              "      <td>1-9999</td>\n",
              "      <td>N</td>\n",
              "      <td>108590</td>\n",
              "      <td>1</td>\n",
              "    </tr>\n",
              "    <tr>\n",
              "      <th>2</th>\n",
              "      <td>T5</td>\n",
              "      <td>CompanySponsored</td>\n",
              "      <td>C3000</td>\n",
              "      <td>ProductDev</td>\n",
              "      <td>Association</td>\n",
              "      <td>0</td>\n",
              "      <td>N</td>\n",
              "      <td>5000</td>\n",
              "      <td>0</td>\n",
              "    </tr>\n",
              "    <tr>\n",
              "      <th>3</th>\n",
              "      <td>T3</td>\n",
              "      <td>CompanySponsored</td>\n",
              "      <td>C2000</td>\n",
              "      <td>Preservation</td>\n",
              "      <td>Trust</td>\n",
              "      <td>10000-24999</td>\n",
              "      <td>N</td>\n",
              "      <td>6692</td>\n",
              "      <td>1</td>\n",
              "    </tr>\n",
              "    <tr>\n",
              "      <th>4</th>\n",
              "      <td>T3</td>\n",
              "      <td>Independent</td>\n",
              "      <td>C1000</td>\n",
              "      <td>Heathcare</td>\n",
              "      <td>Trust</td>\n",
              "      <td>100000-499999</td>\n",
              "      <td>N</td>\n",
              "      <td>142590</td>\n",
              "      <td>1</td>\n",
              "    </tr>\n",
              "  </tbody>\n",
              "</table>\n",
              "</div>"
            ],
            "text/plain": [
              "  APPLICATION_TYPE       AFFILIATION CLASSIFICATION      USE_CASE  \\\n",
              "0              T10       Independent          C1000    ProductDev   \n",
              "1               T3       Independent          C2000  Preservation   \n",
              "2               T5  CompanySponsored          C3000    ProductDev   \n",
              "3               T3  CompanySponsored          C2000  Preservation   \n",
              "4               T3       Independent          C1000     Heathcare   \n",
              "\n",
              "   ORGANIZATION     INCOME_AMT SPECIAL_CONSIDERATIONS  ASK_AMT  IS_SUCCESSFUL  \n",
              "0   Association              0                      N     5000              1  \n",
              "1  Co-operative         1-9999                      N   108590              1  \n",
              "2   Association              0                      N     5000              0  \n",
              "3         Trust    10000-24999                      N     6692              1  \n",
              "4         Trust  100000-499999                      N   142590              1  "
            ]
          },
          "execution_count": 47,
          "metadata": {},
          "output_type": "execute_result"
        }
      ],
      "source": [
        "# drop id columns (EIN, NAME)\n",
        "charity_df = charity_df.iloc[:, 2:].copy()\n",
        "charity_df.head()"
      ]
    },
    {
      "cell_type": "code",
      "execution_count": 48,
      "metadata": {
        "colab": {
          "base_uri": "https://localhost:8080/",
          "height": 0
        },
        "id": "GGfyb75pVKdL",
        "outputId": "6ae1df36-7314-4776-d25a-43e03d761d08"
      },
      "outputs": [
        {
          "data": {
            "text/plain": [
              "APPLICATION_TYPE          object\n",
              "AFFILIATION               object\n",
              "CLASSIFICATION            object\n",
              "USE_CASE                  object\n",
              "ORGANIZATION              object\n",
              "INCOME_AMT                object\n",
              "SPECIAL_CONSIDERATIONS    object\n",
              "ASK_AMT                    int64\n",
              "IS_SUCCESSFUL              int64\n",
              "dtype: object"
            ]
          },
          "execution_count": 48,
          "metadata": {},
          "output_type": "execute_result"
        }
      ],
      "source": [
        "# check dtypes\n",
        "charity_df.dtypes"
      ]
    },
    {
      "cell_type": "markdown",
      "metadata": {
        "id": "a0wXg83ZKokZ"
      },
      "source": [
        "### Grouping smaller category levels (not ask amt becaues numeric)"
      ]
    },
    {
      "cell_type": "code",
      "execution_count": 49,
      "metadata": {
        "colab": {
          "base_uri": "https://localhost:8080/",
          "height": 0
        },
        "id": "Ww-wNMv8EH8-",
        "outputId": "7892014c-5663-4ef9-f5f9-eb2816460aa9"
      },
      "outputs": [
        {
          "name": "stdout",
          "output_type": "stream",
          "text": [
            "(34299, 9)\n"
          ]
        },
        {
          "data": {
            "text/plain": [
              "APPLICATION_TYPE            17\n",
              "AFFILIATION                  6\n",
              "CLASSIFICATION              71\n",
              "USE_CASE                     5\n",
              "ORGANIZATION                 4\n",
              "INCOME_AMT                   9\n",
              "SPECIAL_CONSIDERATIONS       2\n",
              "ASK_AMT                   8747\n",
              "IS_SUCCESSFUL                2\n",
              "dtype: int64"
            ]
          },
          "execution_count": 49,
          "metadata": {},
          "output_type": "execute_result"
        }
      ],
      "source": [
        "# check number of unique columns and shape\n",
        "print(charity_df.shape)\n",
        "charity_df.nunique()"
      ]
    },
    {
      "cell_type": "code",
      "execution_count": 50,
      "metadata": {
        "colab": {
          "base_uri": "https://localhost:8080/"
        },
        "id": "CLKzmdHbN16k",
        "outputId": "9be4f269-b7bc-45ca-f8d7-f05573677e66"
      },
      "outputs": [
        {
          "data": {
            "text/plain": [
              "['APPLICATION_TYPE', 'CLASSIFICATION', 'ASK_AMT']"
            ]
          },
          "execution_count": 50,
          "metadata": {},
          "output_type": "execute_result"
        }
      ],
      "source": [
        "# get list of columns with more than 10 unique values\n",
        "long_cols = [col for col in list(charity_df.columns) if charity_df[col].nunique() > 10]\n",
        "long_cols"
      ]
    },
    {
      "cell_type": "code",
      "execution_count": 51,
      "metadata": {
        "id": "H6IYVPT-RILc"
      },
      "outputs": [],
      "source": [
        "# function to replace \"rare\" col values with \"other\"\n",
        "def label_other(index, cutoff_num):\n",
        "  col = long_cols[index]\n",
        "  cnts = charity_df[col].value_counts()\n",
        "  others = cnts[cnts < cutoff_num].index\n",
        "\n",
        "  # replace with other\n",
        "  charity_df[col] = charity_df[col].replace(others, \"Other\")"
      ]
    },
    {
      "cell_type": "code",
      "execution_count": 52,
      "metadata": {
        "id": "Qdq0QlrgR3E9"
      },
      "outputs": [],
      "source": [
        "# label other for value_counts() < cutoff_num\n",
        "label_other(0, 500)  #app type\n",
        "label_other(1, 1500)  #classification"
      ]
    },
    {
      "cell_type": "code",
      "execution_count": 53,
      "metadata": {
        "colab": {
          "base_uri": "https://localhost:8080/",
          "height": 0
        },
        "id": "_GJ57sTrVfab",
        "outputId": "c0a0598e-c39a-45be-aa10-c19094ef355b"
      },
      "outputs": [
        {
          "data": {
            "text/plain": [
              "APPLICATION_TYPE             9\n",
              "AFFILIATION                  6\n",
              "CLASSIFICATION               6\n",
              "USE_CASE                     5\n",
              "ORGANIZATION                 4\n",
              "INCOME_AMT                   9\n",
              "SPECIAL_CONSIDERATIONS       2\n",
              "ASK_AMT                   8747\n",
              "IS_SUCCESSFUL                2\n",
              "dtype: int64"
            ]
          },
          "execution_count": 53,
          "metadata": {},
          "output_type": "execute_result"
        }
      ],
      "source": [
        "# check unique count 3now\n",
        "charity_df.nunique()"
      ]
    },
    {
      "cell_type": "markdown",
      "metadata": {
        "id": "aL-UdLWkeuyQ"
      },
      "source": [
        "### Train/Test split"
      ]
    },
    {
      "cell_type": "code",
      "execution_count": 54,
      "metadata": {
        "id": "IsU8OO3Ae0b8"
      },
      "outputs": [],
      "source": [
        "# separate target\n",
        "x_vars = charity_df.iloc[:, 0:-1]\n",
        "y_var = charity_df.iloc[:, -1]"
      ]
    },
    {
      "cell_type": "code",
      "execution_count": 55,
      "metadata": {
        "id": "WhI22iA4fSag"
      },
      "outputs": [],
      "source": [
        "# do train test split\n",
        "x_train, x_test, y_train, y_test = train_test_split(\n",
        "    x_vars,\n",
        "    y_var,\n",
        "    stratify=y_var,  #preserve the class ratio\n",
        "    random_state=1\n",
        ")"
      ]
    },
    {
      "cell_type": "markdown",
      "metadata": {
        "id": "czhhKf4UUGMp"
      },
      "source": [
        "### Encode categorical variables & scale numeric"
      ]
    },
    {
      "cell_type": "code",
      "execution_count": 56,
      "metadata": {
        "colab": {
          "base_uri": "https://localhost:8080/",
          "height": 0
        },
        "id": "dp_yiupPhORm",
        "outputId": "246026d8-b5fd-48dc-cfb5-6b8c2a726ffc"
      },
      "outputs": [
        {
          "data": {
            "text/plain": [
              "['APPLICATION_TYPE',\n",
              " 'AFFILIATION',\n",
              " 'CLASSIFICATION',\n",
              " 'USE_CASE',\n",
              " 'ORGANIZATION',\n",
              " 'INCOME_AMT',\n",
              " 'SPECIAL_CONSIDERATIONS']"
            ]
          },
          "metadata": {},
          "output_type": "display_data"
        },
        {
          "data": {
            "text/plain": [
              "['ASK_AMT']"
            ]
          },
          "metadata": {},
          "output_type": "display_data"
        }
      ],
      "source": [
        "# avoid data leakage and identify column type (categorical/numeric) from x_train\n",
        "cat_cols = x_vars.select_dtypes(include=['object']).columns.tolist()\n",
        "# cat_cols.append('STATUS')\n",
        "\n",
        "num_cols = x_train.columns.difference(cat_cols).tolist()\n",
        "\n",
        "# review cat and num cols\n",
        "display(cat_cols)\n",
        "display(num_cols)"
      ]
    },
    {
      "cell_type": "code",
      "execution_count": 57,
      "metadata": {
        "id": "4WRFTfUFh50b"
      },
      "outputs": [],
      "source": [
        "# create transformer for categorical columns (onehotencoder)\n",
        "cat_transformer = OneHotEncoder(\n",
        "    #drop='first',  #not really needed to do in nn\n",
        "    handle_unknown='ignore', #prevents errors if test/new data has unforseen categories\n",
        "    sparse_output=False\n",
        ")\n",
        "\n",
        "# create pipeline for numeric (log then scale)\n",
        "log_transformer = FunctionTransformer(np.log1p, validate=True)\n",
        "num_pipeline = Pipeline([\n",
        "    ('log', log_transformer),\n",
        "    ('scaler', StandardScaler()),\n",
        "])"
      ]
    },
    {
      "cell_type": "code",
      "execution_count": 58,
      "metadata": {
        "id": "Yob2RF8eicgh"
      },
      "outputs": [],
      "source": [
        "# combine transformers with ColumnTransformer\n",
        "preprocessor = ColumnTransformer(\n",
        "    transformers=[\n",
        "        ('cat', cat_transformer, cat_cols), #apply onehotencoder to category cols\n",
        "        ('num', num_pipeline, num_cols)  #apply log transformer and scaling to numeric cols\n",
        "    ],\n",
        "    #remainder='passthrough' #keep rest of the columns untransformed\n",
        "    remainder='drop' #drop rest of the columns\n",
        ")"
      ]
    },
    {
      "cell_type": "code",
      "execution_count": 59,
      "metadata": {
        "id": "Qq8wVgyTjNWF"
      },
      "outputs": [],
      "source": [
        "# fit/transform on x train and transform x test\n",
        "x_train_processed = preprocessor.fit_transform(x_train)\n",
        "x_test_processed = preprocessor.transform(x_test)"
      ]
    },
    {
      "cell_type": "markdown",
      "metadata": {
        "id": "lmP3wTbKxZOz"
      },
      "source": [
        "### Extra: Convert to df (just to see)"
      ]
    },
    {
      "cell_type": "code",
      "execution_count": 60,
      "metadata": {
        "colab": {
          "base_uri": "https://localhost:8080/"
        },
        "id": "peO_J-VQxIWR",
        "outputId": "e2c4e528-7e48-4e4e-ed7c-f9950ff94a8f"
      },
      "outputs": [
        {
          "data": {
            "text/plain": [
              "array(['APPLICATION_TYPE_Other', 'APPLICATION_TYPE_T10',\n",
              "       'APPLICATION_TYPE_T19', 'APPLICATION_TYPE_T3',\n",
              "       'APPLICATION_TYPE_T4', 'APPLICATION_TYPE_T5',\n",
              "       'APPLICATION_TYPE_T6', 'APPLICATION_TYPE_T7',\n",
              "       'APPLICATION_TYPE_T8', 'AFFILIATION_CompanySponsored',\n",
              "       'AFFILIATION_Family/Parent', 'AFFILIATION_Independent',\n",
              "       'AFFILIATION_National', 'AFFILIATION_Other',\n",
              "       'AFFILIATION_Regional', 'CLASSIFICATION_C1000',\n",
              "       'CLASSIFICATION_C1200', 'CLASSIFICATION_C2000',\n",
              "       'CLASSIFICATION_C2100', 'CLASSIFICATION_C3000',\n",
              "       'CLASSIFICATION_Other', 'USE_CASE_CommunityServ',\n",
              "       'USE_CASE_Heathcare', 'USE_CASE_Other', 'USE_CASE_Preservation',\n",
              "       'USE_CASE_ProductDev', 'ORGANIZATION_Association',\n",
              "       'ORGANIZATION_Co-operative', 'ORGANIZATION_Corporation',\n",
              "       'ORGANIZATION_Trust', 'INCOME_AMT_0', 'INCOME_AMT_1-9999',\n",
              "       'INCOME_AMT_10000-24999', 'INCOME_AMT_100000-499999',\n",
              "       'INCOME_AMT_10M-50M', 'INCOME_AMT_1M-5M', 'INCOME_AMT_25000-99999',\n",
              "       'INCOME_AMT_50M+', 'INCOME_AMT_5M-10M', 'SPECIAL_CONSIDERATIONS_N',\n",
              "       'SPECIAL_CONSIDERATIONS_Y', 'ASK_AMT'], dtype=object)"
            ]
          },
          "execution_count": 60,
          "metadata": {},
          "output_type": "execute_result"
        }
      ],
      "source": [
        "# get one hot encoder feature names\n",
        "cat_feature_names = preprocessor.named_transformers_['cat'].get_feature_names_out(cat_cols)\n",
        "\n",
        "# combine num and cat col names\n",
        "all_feature_names = np.concatenate([cat_feature_names, num_cols])\n",
        "all_feature_names"
      ]
    },
    {
      "cell_type": "code",
      "execution_count": 61,
      "metadata": {
        "colab": {
          "base_uri": "https://localhost:8080/",
          "height": 0
        },
        "id": "y9tCdeif6K7r",
        "outputId": "e1d88415-6975-423e-b5ac-1334373f8c65"
      },
      "outputs": [
        {
          "name": "stdout",
          "output_type": "stream",
          "text": [
            "(25724, 42)\n"
          ]
        },
        {
          "data": {
            "text/html": [
              "<div>\n",
              "<style scoped>\n",
              "    .dataframe tbody tr th:only-of-type {\n",
              "        vertical-align: middle;\n",
              "    }\n",
              "\n",
              "    .dataframe tbody tr th {\n",
              "        vertical-align: top;\n",
              "    }\n",
              "\n",
              "    .dataframe thead th {\n",
              "        text-align: right;\n",
              "    }\n",
              "</style>\n",
              "<table border=\"1\" class=\"dataframe\">\n",
              "  <thead>\n",
              "    <tr style=\"text-align: right;\">\n",
              "      <th></th>\n",
              "      <th>APPLICATION_TYPE_Other</th>\n",
              "      <th>APPLICATION_TYPE_T10</th>\n",
              "      <th>APPLICATION_TYPE_T19</th>\n",
              "      <th>APPLICATION_TYPE_T3</th>\n",
              "      <th>APPLICATION_TYPE_T4</th>\n",
              "      <th>APPLICATION_TYPE_T5</th>\n",
              "      <th>APPLICATION_TYPE_T6</th>\n",
              "      <th>APPLICATION_TYPE_T7</th>\n",
              "      <th>APPLICATION_TYPE_T8</th>\n",
              "      <th>AFFILIATION_CompanySponsored</th>\n",
              "      <th>...</th>\n",
              "      <th>INCOME_AMT_10000-24999</th>\n",
              "      <th>INCOME_AMT_100000-499999</th>\n",
              "      <th>INCOME_AMT_10M-50M</th>\n",
              "      <th>INCOME_AMT_1M-5M</th>\n",
              "      <th>INCOME_AMT_25000-99999</th>\n",
              "      <th>INCOME_AMT_50M+</th>\n",
              "      <th>INCOME_AMT_5M-10M</th>\n",
              "      <th>SPECIAL_CONSIDERATIONS_N</th>\n",
              "      <th>SPECIAL_CONSIDERATIONS_Y</th>\n",
              "      <th>ASK_AMT</th>\n",
              "    </tr>\n",
              "  </thead>\n",
              "  <tbody>\n",
              "    <tr>\n",
              "      <th>0</th>\n",
              "      <td>0.0</td>\n",
              "      <td>0.0</td>\n",
              "      <td>0.0</td>\n",
              "      <td>1.0</td>\n",
              "      <td>0.0</td>\n",
              "      <td>0.0</td>\n",
              "      <td>0.0</td>\n",
              "      <td>0.0</td>\n",
              "      <td>0.0</td>\n",
              "      <td>0.0</td>\n",
              "      <td>...</td>\n",
              "      <td>0.0</td>\n",
              "      <td>0.0</td>\n",
              "      <td>0.0</td>\n",
              "      <td>1.0</td>\n",
              "      <td>0.0</td>\n",
              "      <td>0.0</td>\n",
              "      <td>0.0</td>\n",
              "      <td>1.0</td>\n",
              "      <td>0.0</td>\n",
              "      <td>2.645480</td>\n",
              "    </tr>\n",
              "    <tr>\n",
              "      <th>1</th>\n",
              "      <td>0.0</td>\n",
              "      <td>0.0</td>\n",
              "      <td>0.0</td>\n",
              "      <td>1.0</td>\n",
              "      <td>0.0</td>\n",
              "      <td>0.0</td>\n",
              "      <td>0.0</td>\n",
              "      <td>0.0</td>\n",
              "      <td>0.0</td>\n",
              "      <td>1.0</td>\n",
              "      <td>...</td>\n",
              "      <td>0.0</td>\n",
              "      <td>0.0</td>\n",
              "      <td>0.0</td>\n",
              "      <td>0.0</td>\n",
              "      <td>0.0</td>\n",
              "      <td>0.0</td>\n",
              "      <td>0.0</td>\n",
              "      <td>1.0</td>\n",
              "      <td>0.0</td>\n",
              "      <td>-0.481041</td>\n",
              "    </tr>\n",
              "    <tr>\n",
              "      <th>2</th>\n",
              "      <td>0.0</td>\n",
              "      <td>0.0</td>\n",
              "      <td>0.0</td>\n",
              "      <td>1.0</td>\n",
              "      <td>0.0</td>\n",
              "      <td>0.0</td>\n",
              "      <td>0.0</td>\n",
              "      <td>0.0</td>\n",
              "      <td>0.0</td>\n",
              "      <td>0.0</td>\n",
              "      <td>...</td>\n",
              "      <td>0.0</td>\n",
              "      <td>0.0</td>\n",
              "      <td>0.0</td>\n",
              "      <td>0.0</td>\n",
              "      <td>0.0</td>\n",
              "      <td>0.0</td>\n",
              "      <td>0.0</td>\n",
              "      <td>1.0</td>\n",
              "      <td>0.0</td>\n",
              "      <td>-0.481041</td>\n",
              "    </tr>\n",
              "    <tr>\n",
              "      <th>3</th>\n",
              "      <td>0.0</td>\n",
              "      <td>0.0</td>\n",
              "      <td>0.0</td>\n",
              "      <td>1.0</td>\n",
              "      <td>0.0</td>\n",
              "      <td>0.0</td>\n",
              "      <td>0.0</td>\n",
              "      <td>0.0</td>\n",
              "      <td>0.0</td>\n",
              "      <td>1.0</td>\n",
              "      <td>...</td>\n",
              "      <td>0.0</td>\n",
              "      <td>0.0</td>\n",
              "      <td>0.0</td>\n",
              "      <td>0.0</td>\n",
              "      <td>0.0</td>\n",
              "      <td>0.0</td>\n",
              "      <td>0.0</td>\n",
              "      <td>1.0</td>\n",
              "      <td>0.0</td>\n",
              "      <td>-0.481041</td>\n",
              "    </tr>\n",
              "    <tr>\n",
              "      <th>4</th>\n",
              "      <td>0.0</td>\n",
              "      <td>0.0</td>\n",
              "      <td>0.0</td>\n",
              "      <td>1.0</td>\n",
              "      <td>0.0</td>\n",
              "      <td>0.0</td>\n",
              "      <td>0.0</td>\n",
              "      <td>0.0</td>\n",
              "      <td>0.0</td>\n",
              "      <td>0.0</td>\n",
              "      <td>...</td>\n",
              "      <td>0.0</td>\n",
              "      <td>0.0</td>\n",
              "      <td>0.0</td>\n",
              "      <td>0.0</td>\n",
              "      <td>0.0</td>\n",
              "      <td>0.0</td>\n",
              "      <td>0.0</td>\n",
              "      <td>1.0</td>\n",
              "      <td>0.0</td>\n",
              "      <td>-0.481041</td>\n",
              "    </tr>\n",
              "  </tbody>\n",
              "</table>\n",
              "<p>5 rows × 42 columns</p>\n",
              "</div>"
            ],
            "text/plain": [
              "   APPLICATION_TYPE_Other  APPLICATION_TYPE_T10  APPLICATION_TYPE_T19  \\\n",
              "0                     0.0                   0.0                   0.0   \n",
              "1                     0.0                   0.0                   0.0   \n",
              "2                     0.0                   0.0                   0.0   \n",
              "3                     0.0                   0.0                   0.0   \n",
              "4                     0.0                   0.0                   0.0   \n",
              "\n",
              "   APPLICATION_TYPE_T3  APPLICATION_TYPE_T4  APPLICATION_TYPE_T5  \\\n",
              "0                  1.0                  0.0                  0.0   \n",
              "1                  1.0                  0.0                  0.0   \n",
              "2                  1.0                  0.0                  0.0   \n",
              "3                  1.0                  0.0                  0.0   \n",
              "4                  1.0                  0.0                  0.0   \n",
              "\n",
              "   APPLICATION_TYPE_T6  APPLICATION_TYPE_T7  APPLICATION_TYPE_T8  \\\n",
              "0                  0.0                  0.0                  0.0   \n",
              "1                  0.0                  0.0                  0.0   \n",
              "2                  0.0                  0.0                  0.0   \n",
              "3                  0.0                  0.0                  0.0   \n",
              "4                  0.0                  0.0                  0.0   \n",
              "\n",
              "   AFFILIATION_CompanySponsored  ...  INCOME_AMT_10000-24999  \\\n",
              "0                           0.0  ...                     0.0   \n",
              "1                           1.0  ...                     0.0   \n",
              "2                           0.0  ...                     0.0   \n",
              "3                           1.0  ...                     0.0   \n",
              "4                           0.0  ...                     0.0   \n",
              "\n",
              "   INCOME_AMT_100000-499999  INCOME_AMT_10M-50M  INCOME_AMT_1M-5M  \\\n",
              "0                       0.0                 0.0               1.0   \n",
              "1                       0.0                 0.0               0.0   \n",
              "2                       0.0                 0.0               0.0   \n",
              "3                       0.0                 0.0               0.0   \n",
              "4                       0.0                 0.0               0.0   \n",
              "\n",
              "   INCOME_AMT_25000-99999  INCOME_AMT_50M+  INCOME_AMT_5M-10M  \\\n",
              "0                     0.0              0.0                0.0   \n",
              "1                     0.0              0.0                0.0   \n",
              "2                     0.0              0.0                0.0   \n",
              "3                     0.0              0.0                0.0   \n",
              "4                     0.0              0.0                0.0   \n",
              "\n",
              "   SPECIAL_CONSIDERATIONS_N  SPECIAL_CONSIDERATIONS_Y   ASK_AMT  \n",
              "0                       1.0                       0.0  2.645480  \n",
              "1                       1.0                       0.0 -0.481041  \n",
              "2                       1.0                       0.0 -0.481041  \n",
              "3                       1.0                       0.0 -0.481041  \n",
              "4                       1.0                       0.0 -0.481041  \n",
              "\n",
              "[5 rows x 42 columns]"
            ]
          },
          "metadata": {},
          "output_type": "display_data"
        },
        {
          "name": "stdout",
          "output_type": "stream",
          "text": [
            "(8575, 42)\n"
          ]
        },
        {
          "data": {
            "text/html": [
              "<div>\n",
              "<style scoped>\n",
              "    .dataframe tbody tr th:only-of-type {\n",
              "        vertical-align: middle;\n",
              "    }\n",
              "\n",
              "    .dataframe tbody tr th {\n",
              "        vertical-align: top;\n",
              "    }\n",
              "\n",
              "    .dataframe thead th {\n",
              "        text-align: right;\n",
              "    }\n",
              "</style>\n",
              "<table border=\"1\" class=\"dataframe\">\n",
              "  <thead>\n",
              "    <tr style=\"text-align: right;\">\n",
              "      <th></th>\n",
              "      <th>APPLICATION_TYPE_Other</th>\n",
              "      <th>APPLICATION_TYPE_T10</th>\n",
              "      <th>APPLICATION_TYPE_T19</th>\n",
              "      <th>APPLICATION_TYPE_T3</th>\n",
              "      <th>APPLICATION_TYPE_T4</th>\n",
              "      <th>APPLICATION_TYPE_T5</th>\n",
              "      <th>APPLICATION_TYPE_T6</th>\n",
              "      <th>APPLICATION_TYPE_T7</th>\n",
              "      <th>APPLICATION_TYPE_T8</th>\n",
              "      <th>AFFILIATION_CompanySponsored</th>\n",
              "      <th>...</th>\n",
              "      <th>INCOME_AMT_10000-24999</th>\n",
              "      <th>INCOME_AMT_100000-499999</th>\n",
              "      <th>INCOME_AMT_10M-50M</th>\n",
              "      <th>INCOME_AMT_1M-5M</th>\n",
              "      <th>INCOME_AMT_25000-99999</th>\n",
              "      <th>INCOME_AMT_50M+</th>\n",
              "      <th>INCOME_AMT_5M-10M</th>\n",
              "      <th>SPECIAL_CONSIDERATIONS_N</th>\n",
              "      <th>SPECIAL_CONSIDERATIONS_Y</th>\n",
              "      <th>ASK_AMT</th>\n",
              "    </tr>\n",
              "  </thead>\n",
              "  <tbody>\n",
              "    <tr>\n",
              "      <th>0</th>\n",
              "      <td>0.0</td>\n",
              "      <td>0.0</td>\n",
              "      <td>0.0</td>\n",
              "      <td>1.0</td>\n",
              "      <td>0.0</td>\n",
              "      <td>0.0</td>\n",
              "      <td>0.0</td>\n",
              "      <td>0.0</td>\n",
              "      <td>0.0</td>\n",
              "      <td>1.0</td>\n",
              "      <td>...</td>\n",
              "      <td>0.0</td>\n",
              "      <td>0.0</td>\n",
              "      <td>0.0</td>\n",
              "      <td>0.0</td>\n",
              "      <td>0.0</td>\n",
              "      <td>0.0</td>\n",
              "      <td>0.0</td>\n",
              "      <td>1.0</td>\n",
              "      <td>0.0</td>\n",
              "      <td>-0.481041</td>\n",
              "    </tr>\n",
              "    <tr>\n",
              "      <th>1</th>\n",
              "      <td>0.0</td>\n",
              "      <td>0.0</td>\n",
              "      <td>0.0</td>\n",
              "      <td>0.0</td>\n",
              "      <td>1.0</td>\n",
              "      <td>0.0</td>\n",
              "      <td>0.0</td>\n",
              "      <td>0.0</td>\n",
              "      <td>0.0</td>\n",
              "      <td>1.0</td>\n",
              "      <td>...</td>\n",
              "      <td>0.0</td>\n",
              "      <td>0.0</td>\n",
              "      <td>0.0</td>\n",
              "      <td>0.0</td>\n",
              "      <td>0.0</td>\n",
              "      <td>0.0</td>\n",
              "      <td>0.0</td>\n",
              "      <td>1.0</td>\n",
              "      <td>0.0</td>\n",
              "      <td>-0.481041</td>\n",
              "    </tr>\n",
              "    <tr>\n",
              "      <th>2</th>\n",
              "      <td>0.0</td>\n",
              "      <td>0.0</td>\n",
              "      <td>0.0</td>\n",
              "      <td>1.0</td>\n",
              "      <td>0.0</td>\n",
              "      <td>0.0</td>\n",
              "      <td>0.0</td>\n",
              "      <td>0.0</td>\n",
              "      <td>0.0</td>\n",
              "      <td>1.0</td>\n",
              "      <td>...</td>\n",
              "      <td>0.0</td>\n",
              "      <td>0.0</td>\n",
              "      <td>0.0</td>\n",
              "      <td>0.0</td>\n",
              "      <td>0.0</td>\n",
              "      <td>0.0</td>\n",
              "      <td>0.0</td>\n",
              "      <td>1.0</td>\n",
              "      <td>0.0</td>\n",
              "      <td>-0.481041</td>\n",
              "    </tr>\n",
              "    <tr>\n",
              "      <th>3</th>\n",
              "      <td>0.0</td>\n",
              "      <td>0.0</td>\n",
              "      <td>0.0</td>\n",
              "      <td>1.0</td>\n",
              "      <td>0.0</td>\n",
              "      <td>0.0</td>\n",
              "      <td>0.0</td>\n",
              "      <td>0.0</td>\n",
              "      <td>0.0</td>\n",
              "      <td>0.0</td>\n",
              "      <td>...</td>\n",
              "      <td>0.0</td>\n",
              "      <td>0.0</td>\n",
              "      <td>0.0</td>\n",
              "      <td>0.0</td>\n",
              "      <td>0.0</td>\n",
              "      <td>0.0</td>\n",
              "      <td>0.0</td>\n",
              "      <td>1.0</td>\n",
              "      <td>0.0</td>\n",
              "      <td>-0.481041</td>\n",
              "    </tr>\n",
              "    <tr>\n",
              "      <th>4</th>\n",
              "      <td>0.0</td>\n",
              "      <td>0.0</td>\n",
              "      <td>0.0</td>\n",
              "      <td>1.0</td>\n",
              "      <td>0.0</td>\n",
              "      <td>0.0</td>\n",
              "      <td>0.0</td>\n",
              "      <td>0.0</td>\n",
              "      <td>0.0</td>\n",
              "      <td>0.0</td>\n",
              "      <td>...</td>\n",
              "      <td>0.0</td>\n",
              "      <td>0.0</td>\n",
              "      <td>0.0</td>\n",
              "      <td>0.0</td>\n",
              "      <td>0.0</td>\n",
              "      <td>0.0</td>\n",
              "      <td>0.0</td>\n",
              "      <td>1.0</td>\n",
              "      <td>0.0</td>\n",
              "      <td>-0.481041</td>\n",
              "    </tr>\n",
              "  </tbody>\n",
              "</table>\n",
              "<p>5 rows × 42 columns</p>\n",
              "</div>"
            ],
            "text/plain": [
              "   APPLICATION_TYPE_Other  APPLICATION_TYPE_T10  APPLICATION_TYPE_T19  \\\n",
              "0                     0.0                   0.0                   0.0   \n",
              "1                     0.0                   0.0                   0.0   \n",
              "2                     0.0                   0.0                   0.0   \n",
              "3                     0.0                   0.0                   0.0   \n",
              "4                     0.0                   0.0                   0.0   \n",
              "\n",
              "   APPLICATION_TYPE_T3  APPLICATION_TYPE_T4  APPLICATION_TYPE_T5  \\\n",
              "0                  1.0                  0.0                  0.0   \n",
              "1                  0.0                  1.0                  0.0   \n",
              "2                  1.0                  0.0                  0.0   \n",
              "3                  1.0                  0.0                  0.0   \n",
              "4                  1.0                  0.0                  0.0   \n",
              "\n",
              "   APPLICATION_TYPE_T6  APPLICATION_TYPE_T7  APPLICATION_TYPE_T8  \\\n",
              "0                  0.0                  0.0                  0.0   \n",
              "1                  0.0                  0.0                  0.0   \n",
              "2                  0.0                  0.0                  0.0   \n",
              "3                  0.0                  0.0                  0.0   \n",
              "4                  0.0                  0.0                  0.0   \n",
              "\n",
              "   AFFILIATION_CompanySponsored  ...  INCOME_AMT_10000-24999  \\\n",
              "0                           1.0  ...                     0.0   \n",
              "1                           1.0  ...                     0.0   \n",
              "2                           1.0  ...                     0.0   \n",
              "3                           0.0  ...                     0.0   \n",
              "4                           0.0  ...                     0.0   \n",
              "\n",
              "   INCOME_AMT_100000-499999  INCOME_AMT_10M-50M  INCOME_AMT_1M-5M  \\\n",
              "0                       0.0                 0.0               0.0   \n",
              "1                       0.0                 0.0               0.0   \n",
              "2                       0.0                 0.0               0.0   \n",
              "3                       0.0                 0.0               0.0   \n",
              "4                       0.0                 0.0               0.0   \n",
              "\n",
              "   INCOME_AMT_25000-99999  INCOME_AMT_50M+  INCOME_AMT_5M-10M  \\\n",
              "0                     0.0              0.0                0.0   \n",
              "1                     0.0              0.0                0.0   \n",
              "2                     0.0              0.0                0.0   \n",
              "3                     0.0              0.0                0.0   \n",
              "4                     0.0              0.0                0.0   \n",
              "\n",
              "   SPECIAL_CONSIDERATIONS_N  SPECIAL_CONSIDERATIONS_Y   ASK_AMT  \n",
              "0                       1.0                       0.0 -0.481041  \n",
              "1                       1.0                       0.0 -0.481041  \n",
              "2                       1.0                       0.0 -0.481041  \n",
              "3                       1.0                       0.0 -0.481041  \n",
              "4                       1.0                       0.0 -0.481041  \n",
              "\n",
              "[5 rows x 42 columns]"
            ]
          },
          "metadata": {},
          "output_type": "display_data"
        }
      ],
      "source": [
        "# create dataframes\n",
        "x_train_processed_df = pd.DataFrame(x_train_processed, columns=all_feature_names)\n",
        "print(x_train_processed_df.shape)\n",
        "display(x_train_processed_df.head())\n",
        "\n",
        "x_test_processed_df = pd.DataFrame(x_test_processed, columns=all_feature_names)\n",
        "print(x_test_processed_df.shape)\n",
        "display(x_test_processed_df.head())"
      ]
    },
    {
      "cell_type": "markdown",
      "metadata": {
        "id": "eQNlrLS-jdyW"
      },
      "source": [
        "## Compile/Train model\n",
        "---"
      ]
    },
    {
      "cell_type": "code",
      "execution_count": 62,
      "metadata": {
        "id": "O-4iIl8wuk52"
      },
      "outputs": [],
      "source": [
        "# function that creates a new sequential model with hyperparameter options\n",
        "def create_model(hp):\n",
        "  nn_model = tf.keras.models.Sequential()\n",
        "\n",
        "  # hidden layers: activation options\n",
        "  #activation = hp.Choice('activation', ['relu', 'tanh', 'elu'])\n",
        "\n",
        "  # input shape equal to x features\n",
        "  input_dim = x_train_processed.shape[1]  #number of features after onehotencoding\n",
        "  nn_model.add(tf.keras.layers.Input(shape=(input_dim,)))\n",
        "\n",
        "  # dense layers with progressive complexity\n",
        "  for i in range(hp.Int('num_layers', 3, 6)):\n",
        "    # exponential unit scaling\n",
        "    units = hp.Int(\n",
        "      f'units_{i}',\n",
        "      min_value=32,\n",
        "      max_value=256,\n",
        "      step=32\n",
        "      #sampling='log'  #logarithmic sampling for more varied architectures\n",
        "    )\n",
        "\n",
        "    # multiple activation options\n",
        "    activation = hp.Choice('activation', ['relu', 'tanh', 'elu'])\n",
        "\n",
        "    # add dense layer\n",
        "    nn_model.add(tf.keras.layers.Dense(\n",
        "      units,\n",
        "      activation=activation,\n",
        "      kernel_regularizer=tf.keras.regularizers.l2(\n",
        "        hp.Float('12_reg', 1e-5, 1e-3, sampling='log')\n",
        "      )\n",
        "\n",
        "    ))\n",
        "\n",
        "    # batch normalization and dropout\n",
        "    nn_model.add(tf.keras.layers.BatchNormalization())\n",
        "    nn_model.add(tf.keras.layers.Dropout(\n",
        "      hp.Float(f'dropout_{i}', 0.2, 0.5, step=0.1)\n",
        "    ))\n",
        "\n",
        "  # output layer (binary classification)\n",
        "  nn_model.add(tf.keras.layers.Dense(1, activation='sigmoid'))\n",
        "\n",
        "  # flexible optimizer selection\n",
        "  optimizer_choice = hp.Choice('optimizer', ['adam', 'rmsprop'])\n",
        "  lr = hp.Float('learning_rate', 1e-4, 1e-2, sampling='log')\n",
        "\n",
        "  if optimizer_choice == 'adam':\n",
        "    optimizer = tf.keras.optimizers.Adam(learning_rate=lr)\n",
        "  else:\n",
        "    optimizer = tf.keras.optimizers.RMSprop(learning_rate=lr)\n",
        "\n",
        "  # compile the model\n",
        "  nn_model.compile(\n",
        "    optimizer=optimizer,\n",
        "    loss='binary_crossentropy',\n",
        "    metrics=['accuracy']\n",
        "  )\n",
        "\n",
        "  return nn_model\n"
      ]
    },
    {
      "cell_type": "code",
      "execution_count": 63,
      "metadata": {
        "id": "t9ZYXdvFz5gQ"
      },
      "outputs": [],
      "source": [
        "# # get tuner (trying random search)\n",
        "# tuner = kt.RandomSearch(\n",
        "#     create_model,\n",
        "#     objective='val_accuracy',\n",
        "#     max_trials=20,\n",
        "#     #max_epochs=20,\n",
        "#     directory='hypertuning_results'\n",
        "#     # overwrite=True  #overwrites old tuner data\n",
        "# )"
      ]
    },
    {
      "cell_type": "code",
      "execution_count": 65,
      "metadata": {},
      "outputs": [],
      "source": [
        "# trying bayesian optimization tuner\n",
        "tuner = kt.BayesianOptimization(\n",
        "    create_model,\n",
        "    objective = 'val_accuracy',\n",
        "    max_trials=30,\n",
        "    directory='hypertuning_results',\n",
        "    project_name='charity_model'\n",
        ")\n",
        "\n",
        "# callbacks\n",
        "callbacks = [\n",
        "    tf.keras.callbacks.EarlyStopping(\n",
        "        monitor='val_accuracy',\n",
        "        patience=15,\n",
        "        restore_best_weights=True,\n",
        "        mode='max'\n",
        "    ),\n",
        "\n",
        "    tf.keras.callbacks.ReduceLROnPlateau(\n",
        "        monitor='val_loss',\n",
        "        factor=0.5,\n",
        "        patience=5,\n",
        "        min_lr=1e-5\n",
        "    )\n",
        "]"
      ]
    },
    {
      "cell_type": "code",
      "execution_count": 66,
      "metadata": {},
      "outputs": [
        {
          "name": "stdout",
          "output_type": "stream",
          "text": [
            "Trial 30 Complete [00h 03m 41s]\n",
            "val_accuracy: 0.7308065891265869\n",
            "\n",
            "Best val_accuracy So Far: 0.731195330619812\n",
            "Total elapsed time: 01h 09m 10s\n"
          ]
        }
      ],
      "source": [
        "# search with bayesian optimization\n",
        "tuner.search(\n",
        "    x_train_processed, y_train,\n",
        "    epochs=50,\n",
        "    validation_split=0.2,\n",
        "    callbacks=callbacks\n",
        ")"
      ]
    },
    {
      "cell_type": "code",
      "execution_count": null,
      "metadata": {
        "colab": {
          "base_uri": "https://localhost:8080/"
        },
        "id": "nbjVpeBm0ewY",
        "outputId": "d6d656a4-bc0b-4f25-ad89-3c93af122f5e"
      },
      "outputs": [
        {
          "name": "stdout",
          "output_type": "stream",
          "text": [
            "Trial 20 Complete [00h 01m 32s]\n",
            "val_accuracy: 0.7284742593765259\n",
            "\n",
            "Best val_accuracy So Far: 0.7306122183799744\n",
            "Total elapsed time: 00h 22m 13s\n"
          ]
        }
      ],
      "source": [
        "# # run kerastuner to search for best hyperparameters\n",
        "# tuner.search(\n",
        "#     x_train_processed, y_train,\n",
        "#     epochs=20,\n",
        "#     validation_split=0.2,  # 20% of train for validation,\n",
        "#     callbacks=[\n",
        "#         tf.keras.callbacks.EarlyStopping(\n",
        "#             monitor='val_accuracy',\n",
        "#             patience=10,\n",
        "#             restore_best_weights=True,\n",
        "#             mode='max'\n",
        "#         )\n",
        "#     ]\n",
        "#     #max_trials=20\n",
        "# )"
      ]
    },
    {
      "cell_type": "markdown",
      "metadata": {
        "id": "Z3RGNf0b-pfl"
      },
      "source": [
        "## Evaluate Model\n",
        "---"
      ]
    },
    {
      "cell_type": "markdown",
      "metadata": {},
      "source": [
        "## Random Search (with 20 max epochs & 20 trials)"
      ]
    },
    {
      "cell_type": "code",
      "execution_count": 31,
      "metadata": {
        "colab": {
          "base_uri": "https://localhost:8080/"
        },
        "id": "I2hGF3Dq5GoU",
        "outputId": "f1625cb7-8b5a-4cca-aabd-ed313d55d4b1"
      },
      "outputs": [
        {
          "name": "stdout",
          "output_type": "stream",
          "text": [
            "Results summary\n",
            "Results in hypertuning_results\\untitled_project\n",
            "Showing 10 best trials\n",
            "Objective(name=\"val_accuracy\", direction=\"max\")\n",
            "\n",
            "Trial 05 summary\n",
            "Hyperparameters:\n",
            "num_layers: 4\n",
            "units_0: 127\n",
            "activation: relu\n",
            "12_reg: 0.00044987016070916587\n",
            "dropout_0: 0.4\n",
            "units_1: 104\n",
            "dropout_1: 0.2\n",
            "units_2: 129\n",
            "dropout_2: 0.2\n",
            "optimizer: rmsprop\n",
            "learning_rate: 0.0003995944477297615\n",
            "units_3: 109\n",
            "dropout_3: 0.30000000000000004\n",
            "units_4: 71\n",
            "dropout_4: 0.4\n",
            "units_5: 118\n",
            "dropout_5: 0.4\n",
            "Score: 0.7306122183799744\n",
            "\n",
            "Trial 11 summary\n",
            "Hyperparameters:\n",
            "num_layers: 4\n",
            "units_0: 104\n",
            "activation: relu\n",
            "12_reg: 7.539027884617362e-05\n",
            "dropout_0: 0.4\n",
            "units_1: 179\n",
            "dropout_1: 0.30000000000000004\n",
            "units_2: 138\n",
            "dropout_2: 0.30000000000000004\n",
            "optimizer: adam\n",
            "learning_rate: 0.0008479354308396083\n",
            "units_3: 248\n",
            "dropout_3: 0.2\n",
            "units_4: 152\n",
            "dropout_4: 0.30000000000000004\n",
            "units_5: 111\n",
            "dropout_5: 0.30000000000000004\n",
            "Score: 0.7306122183799744\n",
            "\n",
            "Trial 08 summary\n",
            "Hyperparameters:\n",
            "num_layers: 3\n",
            "units_0: 186\n",
            "activation: relu\n",
            "12_reg: 0.00030284156322642756\n",
            "dropout_0: 0.2\n",
            "units_1: 224\n",
            "dropout_1: 0.2\n",
            "units_2: 161\n",
            "dropout_2: 0.2\n",
            "optimizer: adam\n",
            "learning_rate: 0.0019277164387713425\n",
            "units_3: 93\n",
            "dropout_3: 0.2\n",
            "units_4: 218\n",
            "dropout_4: 0.4\n",
            "units_5: 92\n",
            "dropout_5: 0.2\n",
            "Score: 0.7300291657447815\n",
            "\n",
            "Trial 14 summary\n",
            "Hyperparameters:\n",
            "num_layers: 3\n",
            "units_0: 98\n",
            "activation: tanh\n",
            "12_reg: 3.7156093756370893e-05\n",
            "dropout_0: 0.4\n",
            "units_1: 178\n",
            "dropout_1: 0.30000000000000004\n",
            "units_2: 123\n",
            "dropout_2: 0.4\n",
            "optimizer: adam\n",
            "learning_rate: 0.0008181203226443354\n",
            "units_3: 132\n",
            "dropout_3: 0.2\n",
            "units_4: 113\n",
            "dropout_4: 0.4\n",
            "units_5: 68\n",
            "dropout_5: 0.2\n",
            "Score: 0.7300291657447815\n",
            "\n",
            "Trial 04 summary\n",
            "Hyperparameters:\n",
            "num_layers: 4\n",
            "units_0: 70\n",
            "activation: tanh\n",
            "12_reg: 0.0008933933857913146\n",
            "dropout_0: 0.4\n",
            "units_1: 158\n",
            "dropout_1: 0.30000000000000004\n",
            "units_2: 167\n",
            "dropout_2: 0.30000000000000004\n",
            "optimizer: rmsprop\n",
            "learning_rate: 0.00010335966296352788\n",
            "units_3: 65\n",
            "dropout_3: 0.2\n",
            "units_4: 127\n",
            "dropout_4: 0.2\n",
            "units_5: 178\n",
            "dropout_5: 0.2\n",
            "Score: 0.7296404242515564\n",
            "\n",
            "Trial 17 summary\n",
            "Hyperparameters:\n",
            "num_layers: 6\n",
            "units_0: 105\n",
            "activation: tanh\n",
            "12_reg: 2.849401306021078e-05\n",
            "dropout_0: 0.4\n",
            "units_1: 244\n",
            "dropout_1: 0.30000000000000004\n",
            "units_2: 66\n",
            "dropout_2: 0.4\n",
            "optimizer: rmsprop\n",
            "learning_rate: 0.0017439212691277952\n",
            "units_3: 127\n",
            "dropout_3: 0.30000000000000004\n",
            "units_4: 114\n",
            "dropout_4: 0.30000000000000004\n",
            "units_5: 87\n",
            "dropout_5: 0.30000000000000004\n",
            "Score: 0.7294460535049438\n",
            "\n",
            "Trial 12 summary\n",
            "Hyperparameters:\n",
            "num_layers: 5\n",
            "units_0: 99\n",
            "activation: elu\n",
            "12_reg: 0.00032857440370174547\n",
            "dropout_0: 0.2\n",
            "units_1: 223\n",
            "dropout_1: 0.2\n",
            "units_2: 69\n",
            "dropout_2: 0.4\n",
            "optimizer: adam\n",
            "learning_rate: 0.0004738715531002648\n",
            "units_3: 118\n",
            "dropout_3: 0.2\n",
            "units_4: 148\n",
            "dropout_4: 0.30000000000000004\n",
            "units_5: 233\n",
            "dropout_5: 0.4\n",
            "Score: 0.7292516827583313\n",
            "\n",
            "Trial 02 summary\n",
            "Hyperparameters:\n",
            "num_layers: 4\n",
            "units_0: 68\n",
            "activation: elu\n",
            "12_reg: 1.749645051150071e-05\n",
            "dropout_0: 0.2\n",
            "units_1: 116\n",
            "dropout_1: 0.2\n",
            "units_2: 116\n",
            "dropout_2: 0.2\n",
            "optimizer: rmsprop\n",
            "learning_rate: 0.0018977950226028867\n",
            "units_3: 182\n",
            "dropout_3: 0.4\n",
            "units_4: 210\n",
            "dropout_4: 0.4\n",
            "units_5: 231\n",
            "dropout_5: 0.2\n",
            "Score: 0.7286686301231384\n",
            "Traceback (most recent call last):\n",
            "  File \"c:\\Users\\brian\\anaconda3\\envs\\tf\\lib\\site-packages\\keras_tuner\\src\\engine\\base_tuner.py\", line 274, in _try_run_and_update_trial\n",
            "    self._run_and_update_trial(trial, *fit_args, **fit_kwargs)\n",
            "  File \"c:\\Users\\brian\\anaconda3\\envs\\tf\\lib\\site-packages\\keras_tuner\\src\\engine\\base_tuner.py\", line 239, in _run_and_update_trial\n",
            "    results = self.run_trial(trial, *fit_args, **fit_kwargs)\n",
            "  File \"c:\\Users\\brian\\anaconda3\\envs\\tf\\lib\\site-packages\\keras_tuner\\src\\engine\\tuner.py\", line 314, in run_trial\n",
            "    obj_value = self._build_and_fit_model(trial, *args, **copied_kwargs)\n",
            "  File \"c:\\Users\\brian\\anaconda3\\envs\\tf\\lib\\site-packages\\keras_tuner\\src\\engine\\tuner.py\", line 233, in _build_and_fit_model\n",
            "    results = self.hypermodel.fit(hp, model, *args, **kwargs)\n",
            "  File \"c:\\Users\\brian\\anaconda3\\envs\\tf\\lib\\site-packages\\keras_tuner\\src\\engine\\hypermodel.py\", line 149, in fit\n",
            "    return model.fit(*args, **kwargs)\n",
            "  File \"c:\\Users\\brian\\anaconda3\\envs\\tf\\lib\\site-packages\\keras\\src\\utils\\traceback_utils.py\", line 122, in error_handler\n",
            "    raise e.with_traceback(filtered_tb) from None\n",
            "  File \"c:\\Users\\brian\\anaconda3\\envs\\tf\\lib\\site-packages\\keras\\src\\utils\\traceback_utils.py\", line 117, in error_handler\n",
            "    return fn(*args, **kwargs)\n",
            "TypeError: TensorFlowTrainer.fit() got an unexpected keyword argument 'max_trials'\n",
            "\n",
            "\n",
            "Trial 03 summary\n",
            "Hyperparameters:\n",
            "num_layers: 3\n",
            "units_0: 226\n",
            "activation: elu\n",
            "12_reg: 5.8506058102203874e-05\n",
            "dropout_0: 0.30000000000000004\n",
            "units_1: 150\n",
            "dropout_1: 0.4\n",
            "units_2: 96\n",
            "dropout_2: 0.2\n",
            "optimizer: adam\n",
            "learning_rate: 0.0003508183328950389\n",
            "units_3: 233\n",
            "dropout_3: 0.2\n",
            "units_4: 212\n",
            "dropout_4: 0.2\n",
            "units_5: 193\n",
            "dropout_5: 0.30000000000000004\n",
            "Score: 0.7286686301231384\n",
            "\n",
            "Trial 09 summary\n",
            "Hyperparameters:\n",
            "num_layers: 4\n",
            "units_0: 255\n",
            "activation: elu\n",
            "12_reg: 1.4667056075951908e-05\n",
            "dropout_0: 0.2\n",
            "units_1: 163\n",
            "dropout_1: 0.4\n",
            "units_2: 150\n",
            "dropout_2: 0.30000000000000004\n",
            "optimizer: adam\n",
            "learning_rate: 0.005140535765580687\n",
            "units_3: 80\n",
            "dropout_3: 0.30000000000000004\n",
            "units_4: 75\n",
            "dropout_4: 0.4\n",
            "units_5: 120\n",
            "dropout_5: 0.30000000000000004\n",
            "Score: 0.7286686301231384\n"
          ]
        }
      ],
      "source": [
        "# check results summary\n",
        "tuner.results_summary()"
      ]
    },
    {
      "cell_type": "code",
      "execution_count": 32,
      "metadata": {
        "colab": {
          "base_uri": "https://localhost:8080/"
        },
        "id": "utnbdG4W3POP",
        "outputId": "88bc2cea-b9fe-4ba3-8f34-e3d7b332da9a"
      },
      "outputs": [
        {
          "data": {
            "text/plain": [
              "{'num_layers': 4,\n",
              " 'units_0': 127,\n",
              " 'activation': 'relu',\n",
              " '12_reg': 0.00044987016070916587,\n",
              " 'dropout_0': 0.4,\n",
              " 'units_1': 104,\n",
              " 'dropout_1': 0.2,\n",
              " 'units_2': 129,\n",
              " 'dropout_2': 0.2,\n",
              " 'optimizer': 'rmsprop',\n",
              " 'learning_rate': 0.0003995944477297615,\n",
              " 'units_3': 109,\n",
              " 'dropout_3': 0.30000000000000004,\n",
              " 'units_4': 71,\n",
              " 'dropout_4': 0.4,\n",
              " 'units_5': 118,\n",
              " 'dropout_5': 0.4}"
            ]
          },
          "execution_count": 32,
          "metadata": {},
          "output_type": "execute_result"
        }
      ],
      "source": [
        "# get best model hp's\n",
        "best_hp = tuner.get_best_hyperparameters()[0]\n",
        "best_hp.values"
      ]
    },
    {
      "cell_type": "code",
      "execution_count": 33,
      "metadata": {
        "colab": {
          "base_uri": "https://localhost:8080/"
        },
        "id": "pVvYIteA3aMp",
        "outputId": "bcb43441-3176-4090-d09d-47d39537ff4a"
      },
      "outputs": [
        {
          "name": "stderr",
          "output_type": "stream",
          "text": [
            "c:\\Users\\brian\\anaconda3\\envs\\tf\\lib\\site-packages\\keras\\src\\saving\\saving_lib.py:757: UserWarning: Skipping variable loading for optimizer 'rmsprop', because it has 2 variables whereas the saved optimizer has 20 variables. \n",
            "  saveable.load_own_variables(weights_store.get(inner_path))\n"
          ]
        },
        {
          "name": "stdout",
          "output_type": "stream",
          "text": [
            "268/268 - 1s - 5ms/step - accuracy: 0.7275 - loss: 0.5710\n",
            "Loss: 0.5710344910621643, Accuracy: 0.7274635434150696\n"
          ]
        }
      ],
      "source": [
        "# evaluate best model\n",
        "best_model = tuner.get_best_models()[0]\n",
        "model_loss, model_accuracy = best_model.evaluate(x_test_processed, y_test, verbose=2)\n",
        "print(f'Loss: {model_loss}, Accuracy: {model_accuracy}')"
      ]
    },
    {
      "cell_type": "code",
      "execution_count": 34,
      "metadata": {
        "colab": {
          "base_uri": "https://localhost:8080/"
        },
        "id": "B827xJ9s_9HZ",
        "outputId": "e3528d62-4028-421e-da85-35c92ff4fbff"
      },
      "outputs": [
        {
          "name": "stdout",
          "output_type": "stream",
          "text": [
            "\u001b[1m268/268\u001b[0m \u001b[32m━━━━━━━━━━━━━━━━━━━━\u001b[0m\u001b[37m\u001b[0m \u001b[1m1s\u001b[0m 2ms/step\n"
          ]
        },
        {
          "data": {
            "text/plain": [
              "array([[0],\n",
              "       [0],\n",
              "       [0],\n",
              "       ...,\n",
              "       [1],\n",
              "       [1],\n",
              "       [1]])"
            ]
          },
          "execution_count": 34,
          "metadata": {},
          "output_type": "execute_result"
        }
      ],
      "source": [
        "# get predictions from the best model to evaluate\n",
        "y_pred_probs = best_model.predict(x_test_processed)\n",
        "\n",
        "# convert probabilities to binary predictions (0 or 1)\n",
        "y_pred_classes = (y_pred_probs > 0.5).astype(int)\n",
        "y_pred_classes"
      ]
    },
    {
      "cell_type": "code",
      "execution_count": 36,
      "metadata": {
        "colab": {
          "base_uri": "https://localhost:8080/",
          "height": 468
        },
        "id": "7pVKIhjA-llw",
        "outputId": "c22246f5-b28f-424f-e5dc-21a9d4f80510"
      },
      "outputs": [
        {
          "data": {
            "text/plain": [
              "<sklearn.metrics._plot.confusion_matrix.ConfusionMatrixDisplay at 0x16e7f036650>"
            ]
          },
          "execution_count": 36,
          "metadata": {},
          "output_type": "execute_result"
        },
        {
          "data": {
            "image/png": "[encoded data removed]",
            "text/plain": [
              "<Figure size 640x480 with 2 Axes>"
            ]
          },
          "metadata": {},
          "output_type": "display_data"
        }
      ],
      "source": [
        "# compute confusion matrix\n",
        "cm = confusion_matrix(y_test, y_pred_classes)\n",
        "disp = ConfusionMatrixDisplay(confusion_matrix=cm, display_labels=[0,1])\n",
        "disp.plot(values_format='d', cmap='Blues')"
      ]
    },
    {
      "cell_type": "code",
      "execution_count": 37,
      "metadata": {
        "colab": {
          "base_uri": "https://localhost:8080/"
        },
        "id": "fZgP-IkW_F0C",
        "outputId": "4f0522c7-0e4c-4256-ff0f-adbf773c9f89"
      },
      "outputs": [
        {
          "name": "stdout",
          "output_type": "stream",
          "text": [
            "              precision    recall  f1-score   support\n",
            "\n",
            "           0       0.73      0.66      0.69      4010\n",
            "           1       0.73      0.79      0.75      4565\n",
            "\n",
            "    accuracy                           0.73      8575\n",
            "   macro avg       0.73      0.72      0.72      8575\n",
            "weighted avg       0.73      0.73      0.73      8575\n",
            "\n"
          ]
        }
      ],
      "source": [
        "# look at classification report\n",
        "print(classification_report(y_test, y_pred_classes))"
      ]
    },
    {
      "cell_type": "code",
      "execution_count": 67,
      "metadata": {},
      "outputs": [],
      "source": [
        "# save model\n",
        "best_model.save('randomSearch_AlphabetSoupCharity.keras')"
      ]
    },
    {
      "cell_type": "markdown",
      "metadata": {},
      "source": [
        "## Bayesian Optimization (with 50 epochs and 30 trials)"
      ]
    },
    {
      "cell_type": "code",
      "execution_count": 68,
      "metadata": {},
      "outputs": [
        {
          "name": "stdout",
          "output_type": "stream",
          "text": [
            "Results summary\n",
            "Results in hypertuning_results\\charity_model\n",
            "Showing 10 best trials\n",
            "Objective(name=\"val_accuracy\", direction=\"max\")\n",
            "\n",
            "Trial 06 summary\n",
            "Hyperparameters:\n",
            "num_layers: 5\n",
            "units_0: 128\n",
            "activation: elu\n",
            "12_reg: 2.0397530162365785e-05\n",
            "dropout_0: 0.30000000000000004\n",
            "units_1: 128\n",
            "dropout_1: 0.4\n",
            "units_2: 96\n",
            "dropout_2: 0.30000000000000004\n",
            "optimizer: rmsprop\n",
            "learning_rate: 0.0012104165274262825\n",
            "units_3: 32\n",
            "dropout_3: 0.30000000000000004\n",
            "units_4: 32\n",
            "dropout_4: 0.2\n",
            "units_5: 160\n",
            "dropout_5: 0.30000000000000004\n",
            "Score: 0.731195330619812\n",
            "\n",
            "Trial 29 summary\n",
            "Hyperparameters:\n",
            "num_layers: 4\n",
            "units_0: 256\n",
            "activation: tanh\n",
            "12_reg: 2.9203812485812294e-05\n",
            "dropout_0: 0.2\n",
            "units_1: 128\n",
            "dropout_1: 0.30000000000000004\n",
            "units_2: 160\n",
            "dropout_2: 0.2\n",
            "optimizer: adam\n",
            "learning_rate: 0.0021454724811474403\n",
            "units_3: 192\n",
            "dropout_3: 0.30000000000000004\n",
            "units_4: 160\n",
            "dropout_4: 0.4\n",
            "units_5: 192\n",
            "dropout_5: 0.30000000000000004\n",
            "Score: 0.7308065891265869\n",
            "\n",
            "Trial 13 summary\n",
            "Hyperparameters:\n",
            "num_layers: 6\n",
            "units_0: 224\n",
            "activation: relu\n",
            "12_reg: 1.4880031887698728e-05\n",
            "dropout_0: 0.2\n",
            "units_1: 224\n",
            "dropout_1: 0.2\n",
            "units_2: 32\n",
            "dropout_2: 0.2\n",
            "optimizer: rmsprop\n",
            "learning_rate: 0.0001706770625447594\n",
            "units_3: 64\n",
            "dropout_3: 0.2\n",
            "units_4: 256\n",
            "dropout_4: 0.4\n",
            "units_5: 32\n",
            "dropout_5: 0.30000000000000004\n",
            "Score: 0.7304179072380066\n",
            "\n",
            "Trial 07 summary\n",
            "Hyperparameters:\n",
            "num_layers: 3\n",
            "units_0: 224\n",
            "activation: relu\n",
            "12_reg: 1.018885398410015e-05\n",
            "dropout_0: 0.2\n",
            "units_1: 192\n",
            "dropout_1: 0.4\n",
            "units_2: 128\n",
            "dropout_2: 0.2\n",
            "optimizer: adam\n",
            "learning_rate: 0.0005977652662984508\n",
            "units_3: 192\n",
            "dropout_3: 0.2\n",
            "units_4: 256\n",
            "dropout_4: 0.4\n",
            "units_5: 64\n",
            "dropout_5: 0.2\n",
            "Score: 0.730223536491394\n",
            "\n",
            "Trial 11 summary\n",
            "Hyperparameters:\n",
            "num_layers: 4\n",
            "units_0: 32\n",
            "activation: relu\n",
            "12_reg: 0.00011540862153980926\n",
            "dropout_0: 0.2\n",
            "units_1: 128\n",
            "dropout_1: 0.4\n",
            "units_2: 64\n",
            "dropout_2: 0.2\n",
            "optimizer: adam\n",
            "learning_rate: 0.0008417894842053389\n",
            "units_3: 160\n",
            "dropout_3: 0.4\n",
            "units_4: 192\n",
            "dropout_4: 0.30000000000000004\n",
            "units_5: 256\n",
            "dropout_5: 0.4\n",
            "Score: 0.7300291657447815\n",
            "\n",
            "Trial 14 summary\n",
            "Hyperparameters:\n",
            "num_layers: 6\n",
            "units_0: 96\n",
            "activation: relu\n",
            "12_reg: 0.0004265340098831145\n",
            "dropout_0: 0.2\n",
            "units_1: 224\n",
            "dropout_1: 0.30000000000000004\n",
            "units_2: 96\n",
            "dropout_2: 0.4\n",
            "optimizer: adam\n",
            "learning_rate: 0.0011851307653475837\n",
            "units_3: 224\n",
            "dropout_3: 0.30000000000000004\n",
            "units_4: 64\n",
            "dropout_4: 0.2\n",
            "units_5: 192\n",
            "dropout_5: 0.30000000000000004\n",
            "Score: 0.729834794998169\n",
            "\n",
            "Trial 17 summary\n",
            "Hyperparameters:\n",
            "num_layers: 5\n",
            "units_0: 160\n",
            "activation: tanh\n",
            "12_reg: 3.6333258456872155e-05\n",
            "dropout_0: 0.4\n",
            "units_1: 64\n",
            "dropout_1: 0.2\n",
            "units_2: 128\n",
            "dropout_2: 0.2\n",
            "optimizer: rmsprop\n",
            "learning_rate: 0.0012158303534721207\n",
            "units_3: 256\n",
            "dropout_3: 0.30000000000000004\n",
            "units_4: 128\n",
            "dropout_4: 0.4\n",
            "units_5: 160\n",
            "dropout_5: 0.2\n",
            "Score: 0.729834794998169\n",
            "\n",
            "Trial 23 summary\n",
            "Hyperparameters:\n",
            "num_layers: 5\n",
            "units_0: 256\n",
            "activation: relu\n",
            "12_reg: 5.648786702753176e-05\n",
            "dropout_0: 0.30000000000000004\n",
            "units_1: 160\n",
            "dropout_1: 0.2\n",
            "units_2: 64\n",
            "dropout_2: 0.30000000000000004\n",
            "optimizer: adam\n",
            "learning_rate: 0.0014281595359831628\n",
            "units_3: 96\n",
            "dropout_3: 0.4\n",
            "units_4: 256\n",
            "dropout_4: 0.30000000000000004\n",
            "units_5: 64\n",
            "dropout_5: 0.2\n",
            "Score: 0.729834794998169\n",
            "\n",
            "Trial 02 summary\n",
            "Hyperparameters:\n",
            "num_layers: 4\n",
            "units_0: 256\n",
            "activation: elu\n",
            "12_reg: 6.358745983798522e-05\n",
            "dropout_0: 0.30000000000000004\n",
            "units_1: 64\n",
            "dropout_1: 0.30000000000000004\n",
            "units_2: 160\n",
            "dropout_2: 0.2\n",
            "optimizer: rmsprop\n",
            "learning_rate: 0.0010153958908885\n",
            "units_3: 192\n",
            "dropout_3: 0.2\n",
            "units_4: 224\n",
            "dropout_4: 0.2\n",
            "units_5: 256\n",
            "dropout_5: 0.4\n",
            "Score: 0.7296404242515564\n",
            "\n",
            "Trial 09 summary\n",
            "Hyperparameters:\n",
            "num_layers: 6\n",
            "units_0: 96\n",
            "activation: relu\n",
            "12_reg: 0.00011628120158793586\n",
            "dropout_0: 0.4\n",
            "units_1: 224\n",
            "dropout_1: 0.4\n",
            "units_2: 64\n",
            "dropout_2: 0.4\n",
            "optimizer: adam\n",
            "learning_rate: 0.007880010037605347\n",
            "units_3: 64\n",
            "dropout_3: 0.4\n",
            "units_4: 128\n",
            "dropout_4: 0.2\n",
            "units_5: 224\n",
            "dropout_5: 0.4\n",
            "Score: 0.7296404242515564\n"
          ]
        }
      ],
      "source": [
        "# check results summary\n",
        "tuner.results_summary()"
      ]
    },
    {
      "cell_type": "code",
      "execution_count": 69,
      "metadata": {},
      "outputs": [
        {
          "data": {
            "text/plain": [
              "{'num_layers': 5,\n",
              " 'units_0': 128,\n",
              " 'activation': 'elu',\n",
              " '12_reg': 2.0397530162365785e-05,\n",
              " 'dropout_0': 0.30000000000000004,\n",
              " 'units_1': 128,\n",
              " 'dropout_1': 0.4,\n",
              " 'units_2': 96,\n",
              " 'dropout_2': 0.30000000000000004,\n",
              " 'optimizer': 'rmsprop',\n",
              " 'learning_rate': 0.0012104165274262825,\n",
              " 'units_3': 32,\n",
              " 'dropout_3': 0.30000000000000004,\n",
              " 'units_4': 32,\n",
              " 'dropout_4': 0.2,\n",
              " 'units_5': 160,\n",
              " 'dropout_5': 0.30000000000000004}"
            ]
          },
          "execution_count": 69,
          "metadata": {},
          "output_type": "execute_result"
        }
      ],
      "source": [
        "# get best model hp's\n",
        "best_hp = tuner.get_best_hyperparameters()[0]\n",
        "best_hp.values"
      ]
    },
    {
      "cell_type": "code",
      "execution_count": 70,
      "metadata": {},
      "outputs": [
        {
          "name": "stderr",
          "output_type": "stream",
          "text": [
            "c:\\Users\\brian\\anaconda3\\envs\\tf\\lib\\site-packages\\keras\\src\\saving\\saving_lib.py:757: UserWarning: Skipping variable loading for optimizer 'rmsprop', because it has 2 variables whereas the saved optimizer has 24 variables. \n",
            "  saveable.load_own_variables(weights_store.get(inner_path))\n"
          ]
        },
        {
          "name": "stdout",
          "output_type": "stream",
          "text": [
            "268/268 - 1s - 5ms/step - accuracy: 0.7282 - loss: 0.5640\n",
            "Loss: 0.5640073418617249, Accuracy: 0.7281632423400879\n"
          ]
        }
      ],
      "source": [
        "# evaluate best model\n",
        "best_model = tuner.get_best_models()[0]\n",
        "model_loss, model_accuracy = best_model.evaluate(x_test_processed, y_test, verbose=2)\n",
        "print(f'Loss: {model_loss}, Accuracy: {model_accuracy}')"
      ]
    },
    {
      "cell_type": "code",
      "execution_count": 71,
      "metadata": {},
      "outputs": [
        {
          "name": "stdout",
          "output_type": "stream",
          "text": [
            "\u001b[1m268/268\u001b[0m \u001b[32m━━━━━━━━━━━━━━━━━━━━\u001b[0m\u001b[37m\u001b[0m \u001b[1m1s\u001b[0m 2ms/step\n"
          ]
        },
        {
          "data": {
            "text/plain": [
              "array([[0],\n",
              "       [0],\n",
              "       [0],\n",
              "       ...,\n",
              "       [1],\n",
              "       [1],\n",
              "       [1]])"
            ]
          },
          "execution_count": 71,
          "metadata": {},
          "output_type": "execute_result"
        }
      ],
      "source": [
        "# get predictions from the best model to evaluate\n",
        "y_pred_probs = best_model.predict(x_test_processed)\n",
        "\n",
        "# convert probabilities to binary predictions (0 or 1)\n",
        "y_pred_classes = (y_pred_probs > 0.5).astype(int)\n",
        "y_pred_classes"
      ]
    },
    {
      "cell_type": "code",
      "execution_count": 72,
      "metadata": {},
      "outputs": [
        {
          "data": {
            "text/plain": [
              "<sklearn.metrics._plot.confusion_matrix.ConfusionMatrixDisplay at 0x16e8a6e7af0>"
            ]
          },
          "execution_count": 72,
          "metadata": {},
          "output_type": "execute_result"
        },
        {
          "data": {
            "image/png": "[encoded data removed]",
            "text/plain": [
              "<Figure size 640x480 with 2 Axes>"
            ]
          },
          "metadata": {},
          "output_type": "display_data"
        }
      ],
      "source": [
        "# compute confusion matrix\n",
        "cm = confusion_matrix(y_test, y_pred_classes)\n",
        "disp = ConfusionMatrixDisplay(confusion_matrix=cm, display_labels=[0,1])\n",
        "disp.plot(values_format='d', cmap='Blues')"
      ]
    },
    {
      "cell_type": "code",
      "execution_count": 73,
      "metadata": {},
      "outputs": [
        {
          "name": "stdout",
          "output_type": "stream",
          "text": [
            "              precision    recall  f1-score   support\n",
            "\n",
            "           0       0.73      0.66      0.70      4010\n",
            "           1       0.73      0.78      0.75      4565\n",
            "\n",
            "    accuracy                           0.73      8575\n",
            "   macro avg       0.73      0.72      0.73      8575\n",
            "weighted avg       0.73      0.73      0.73      8575\n",
            "\n"
          ]
        }
      ],
      "source": [
        "# look at classification report\n",
        "print(classification_report(y_test, y_pred_classes))"
      ]
    },
    {
      "cell_type": "code",
      "execution_count": 74,
      "metadata": {},
      "outputs": [],
      "source": [
        "# save model\n",
        "best_model.save('bayesian_AlphabetSoupCharity.keras')"
      ]
    }
  ],
  "metadata": {
    "colab": {
      "authorship_tag": "ABX9TyNMFFAFenuPTYpesygnjMVL",
      "collapsed_sections": [
        "Rlsn14PZeNT4",
        "fRK_tnq7s46f",
        "ogDRniJ7CYQE"
      ],
      "include_colab_link": true,
      "provenance": []
    },
    "kernelspec": {
      "display_name": "tf",
      "language": "python",
      "name": "python3"
    },
    "language_info": {
      "codemirror_mode": {
        "name": "ipython",
        "version": 3
      },
      "file_extension": ".py",
      "mimetype": "text/x-python",
      "name": "python",
      "nbconvert_exporter": "python",
      "pygments_lexer": "ipython3",
      "version": "3.10.13"
    }
  },
  "nbformat": 4,
  "nbformat_minor": 0
}
